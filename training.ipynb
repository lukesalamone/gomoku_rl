{
 "cells": [
  {
   "cell_type": "code",
   "execution_count": 1,
   "id": "liberal-insulin",
   "metadata": {},
   "outputs": [],
   "source": [
    "from train import *\n",
    "import torch\n",
    "from tqdm.autonotebook import tqdm\n",
    "from agent import GomokuDataset\n",
    "from torch.utils.data import Dataset, DataLoader"
   ]
  },
  {
   "cell_type": "code",
   "execution_count": null,
   "id": "copyrighted-insertion",
   "metadata": {},
   "outputs": [
    {
     "name": "stdout",
     "output_type": "stream",
     "text": [
      "collecting episodes for iteration 0\n"
     ]
    },
    {
     "name": "stderr",
     "output_type": "stream",
     "text": [
      "/Users/luke/.pyenv/versions/3.7.5/lib/python3.7/site-packages/gym/logger.py:30: UserWarning: \u001b[33mWARN: Box bound precision lowered by casting to float32\u001b[0m\n",
      "  warnings.warn(colorize('%s: %s'%('WARN', msg % args), 'yellow'))\n",
      "/Users/luke/.pyenv/versions/3.7.5/lib/python3.7/site-packages/gym/logger.py:30: UserWarning: \u001b[33mWARN: Environment '<class 'gym_gomoku.envs.gomoku.GomokuEnv'>' has deprecated methods '_step' and '_reset' rather than 'step' and 'reset'. Compatibility code invoked. Set _gym_disable_underscore_compat = True to disable this behavior.\u001b[0m\n",
      "  warnings.warn(colorize('%s: %s'%('WARN', msg % args), 'yellow'))\n"
     ]
    },
    {
     "data": {
      "application/vnd.jupyter.widget-view+json": {
       "model_id": "64d151f43f2b44e1968046266900ba68",
       "version_major": 2,
       "version_minor": 0
      },
      "text/plain": [
       "HBox(children=(FloatProgress(value=0.0, max=250.0), HTML(value='')))"
      ]
     },
     "metadata": {},
     "output_type": "display_data"
    },
    {
     "name": "stdout",
     "output_type": "stream",
     "text": [
      "\n"
     ]
    },
    {
     "data": {
      "application/vnd.jupyter.widget-view+json": {
       "model_id": "2df859b9044d48a1a3a470dabc468dfc",
       "version_major": 2,
       "version_minor": 0
      },
      "text/plain": [
       "HBox(children=(FloatProgress(value=0.0, max=10.0), HTML(value='')))"
      ]
     },
     "metadata": {},
     "output_type": "display_data"
    },
    {
     "name": "stdout",
     "output_type": "stream",
     "text": [
      "TRAINING: epoch 1/10\n",
      "TRAINING: epoch 2/10\n",
      "TRAINING: epoch 3/10\n",
      "TRAINING: epoch 4/10\n",
      "TRAINING: epoch 5/10\n",
      "TRAINING: epoch 6/10\n",
      "TRAINING: epoch 7/10\n",
      "TRAINING: epoch 8/10\n",
      "TRAINING: epoch 9/10\n",
      "TRAINING: epoch 10/10\n",
      "\n",
      "finished training in 76 seconds\n",
      "collecting episodes for iteration 1\n"
     ]
    },
    {
     "data": {
      "application/vnd.jupyter.widget-view+json": {
       "model_id": "8b9bb36cd952482194726caa98879bf1",
       "version_major": 2,
       "version_minor": 0
      },
      "text/plain": [
       "HBox(children=(FloatProgress(value=0.0, max=250.0), HTML(value='')))"
      ]
     },
     "metadata": {},
     "output_type": "display_data"
    },
    {
     "name": "stdout",
     "output_type": "stream",
     "text": [
      "\n"
     ]
    },
    {
     "data": {
      "application/vnd.jupyter.widget-view+json": {
       "model_id": "014c4730c579494aa60a8231a515456c",
       "version_major": 2,
       "version_minor": 0
      },
      "text/plain": [
       "HBox(children=(FloatProgress(value=0.0, max=10.0), HTML(value='')))"
      ]
     },
     "metadata": {},
     "output_type": "display_data"
    },
    {
     "name": "stdout",
     "output_type": "stream",
     "text": [
      "TRAINING: epoch 1/10\n",
      "TRAINING: epoch 2/10\n",
      "TRAINING: epoch 3/10\n",
      "TRAINING: epoch 4/10\n"
     ]
    }
   ],
   "source": [
    "env = GomokuEnvironment(size=BOARD_SIZE)\n",
    "\n",
    "# initialise random neural network\n",
    "agent = GomokuAgent(size=BOARD_SIZE)\n",
    "\n",
    "examples = []\n",
    "for iter_num in range(NUM_ITERATIONS):\n",
    "    print('collecting episodes for iteration', iter_num)\n",
    "    for _ in tqdm(range(NUM_EPISODES)):\n",
    "        # collect examples from this game\n",
    "        examples += exec_episode(env, agent)\n",
    "    new_agent = GomokuAgent(size=BOARD_SIZE).train(examples)\n",
    "\n",
    "    # compare new net with previous net\n",
    "    frac_win = pit(agent, new_agent, env, num_games=NUM_PIT_GAMES)\n",
    "    if frac_win > THRESHOLD:\n",
    "        # replace with new net\n",
    "        agent = new_agent"
   ]
  },
  {
   "cell_type": "code",
   "execution_count": null,
   "id": "solar-technician",
   "metadata": {},
   "outputs": [],
   "source": [
    "soft_pred = softmax(torch.zeros((2)))"
   ]
  },
  {
   "cell_type": "code",
   "execution_count": null,
   "id": "therapeutic-passenger",
   "metadata": {},
   "outputs": [],
   "source": [
    "softmax(torch.zeros((3,81)))"
   ]
  },
  {
   "cell_type": "code",
   "execution_count": null,
   "id": "considerable-diana",
   "metadata": {},
   "outputs": [],
   "source": [
    "len(torch.zeros((5,81)).size())"
   ]
  },
  {
   "cell_type": "code",
   "execution_count": null,
   "id": "medical-belarus",
   "metadata": {},
   "outputs": [],
   "source": [
    "torch.zeros((81)).unsqueeze(0)"
   ]
  },
  {
   "cell_type": "code",
   "execution_count": null,
   "id": "pointed-spirituality",
   "metadata": {},
   "outputs": [],
   "source": []
  }
 ],
 "metadata": {
  "kernelspec": {
   "display_name": "Python 3",
   "language": "python",
   "name": "python3"
  },
  "language_info": {
   "codemirror_mode": {
    "name": "ipython",
    "version": 3
   },
   "file_extension": ".py",
   "mimetype": "text/x-python",
   "name": "python",
   "nbconvert_exporter": "python",
   "pygments_lexer": "ipython3",
   "version": "3.7.5"
  }
 },
 "nbformat": 4,
 "nbformat_minor": 5
}
